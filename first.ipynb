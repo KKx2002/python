{
  "nbformat": 4,
  "nbformat_minor": 0,
  "metadata": {
    "colab": {
      "provenance": []
    },
    "kernelspec": {
      "name": "python3",
      "display_name": "Python 3"
    },
    "language_info": {
      "name": "python"
    }
  },
  "cells": [
    {
      "cell_type": "code",
      "execution_count": null,
      "metadata": {
        "id": "5WeJHx1uSl68"
      },
      "outputs": [],
      "source": []
    },
    {
      "cell_type": "code",
      "source": [
        "print(\"boring asf\")"
      ],
      "metadata": {
        "colab": {
          "base_uri": "https://localhost:8080/"
        },
        "id": "6xXMGv6CSqXN",
        "outputId": "617fc5a4-adb5-4ca6-c71e-85ef689b950c"
      },
      "execution_count": null,
      "outputs": [
        {
          "output_type": "stream",
          "name": "stdout",
          "text": [
            "boring asf\n"
          ]
        }
      ]
    },
    {
      "cell_type": "code",
      "source": [
        "a+b\n"
      ],
      "metadata": {
        "colab": {
          "base_uri": "https://localhost:8080/"
        },
        "id": "zO12gE4hTFjv",
        "outputId": "8c05a086-b740-432c-e20a-b1aa9656ce2c"
      },
      "execution_count": null,
      "outputs": [
        {
          "output_type": "execute_result",
          "data": {
            "text/plain": [
              "3"
            ]
          },
          "metadata": {},
          "execution_count": 5
        }
      ]
    },
    {
      "cell_type": "code",
      "source": [
        "substraction = a-b"
      ],
      "metadata": {
        "id": "gotfeKsYTkcX"
      },
      "execution_count": null,
      "outputs": []
    },
    {
      "cell_type": "code",
      "source": [],
      "metadata": {
        "id": "wM2HHG1DTtSi"
      },
      "execution_count": null,
      "outputs": []
    },
    {
      "cell_type": "code",
      "source": [
        "a=7\n",
        "b=2\n",
        "c=3\n",
        "sum=a+b\n",
        "diff=a-b\n",
        "diff1=a-b-c\n",
        "product=a*b\n",
        "\n",
        "remainder=a%b\n",
        "quotient=a//b\n",
        "square=a*a\n",
        "import math\n",
        "squareroot=math.sqrt(a)\n",
        "sum1=a+b+c\n",
        "\n",
        "print (\"square root of a\",squareroot)\n",
        "print (\"sum of three numbers\",sum1)\n",
        "print (\"remainder\",remainder)\n",
        "print (\"quotient\",quotient)\n",
        "print (\"product\",product)\n",
        "print (\"sum\",sum)\n",
        "print (\"diff\",diff)\n",
        "print (\"diff1\",diff1)"
      ],
      "metadata": {
        "colab": {
          "base_uri": "https://localhost:8080/"
        },
        "id": "FS7xIUISTIRI",
        "outputId": "44b32c16-80b6-4657-d157-b006b13bc33c"
      },
      "execution_count": null,
      "outputs": [
        {
          "output_type": "stream",
          "name": "stdout",
          "text": [
            "square root of a 2.6457513110645907\n",
            "sum of three numbers 12\n",
            "remainder 1\n",
            "quotient 3\n",
            "product 14\n",
            "sum 9\n",
            "diff 5\n",
            "diff1 2\n"
          ]
        }
      ]
    },
    {
      "cell_type": "code",
      "source": [
        "print(type(sum))"
      ],
      "metadata": {
        "colab": {
          "base_uri": "https://localhost:8080/"
        },
        "id": "LMiaaJbdW1EY",
        "outputId": "99567b51-334c-4820-b523-aa745405d5e2"
      },
      "execution_count": null,
      "outputs": [
        {
          "output_type": "stream",
          "name": "stdout",
          "text": [
            "<class 'int'>\n"
          ]
        }
      ]
    },
    {
      "cell_type": "code",
      "source": [
        "num1=34\n",
        "num2=34.23\n",
        "num3=4j\n",
        "print(type(num1))\n",
        "print(type(num2))\n",
        "print(type(num3))"
      ],
      "metadata": {
        "colab": {
          "base_uri": "https://localhost:8080/"
        },
        "id": "R7yU6k5NXI68",
        "outputId": "fc3f4948-bf6d-44f5-c0e5-581f59caa6e4"
      },
      "execution_count": null,
      "outputs": [
        {
          "output_type": "stream",
          "name": "stdout",
          "text": [
            "<class 'int'>\n",
            "<class 'float'>\n",
            "<class 'complex'>\n"
          ]
        }
      ]
    },
    {
      "cell_type": "code",
      "source": [],
      "metadata": {
        "id": "6UWX9JsoXdvq"
      },
      "execution_count": null,
      "outputs": []
    },
    {
      "cell_type": "markdown",
      "source": [],
      "metadata": {
        "id": "Hu6Bo6v-XiTZ"
      }
    },
    {
      "cell_type": "code",
      "source": [
        "import math\n",
        "lis=['faheem','age','18','height','5.7inch']\n",
        "lis2=['joke','offended']\n",
        "lis6=[1,2,3,]\n",
        "print(\"lis6\",lis6)\n",
        "lis3=lis+lis2\n",
        "print(lis)\n",
        "print(lis)\n",
        "print(len(lis))\n",
        "print(lis3)\n",
        "lis3.clear()\n",
        "print(lis3)\n",
        "print(lis[0])\n",
        "lis.sort()\n",
        "print (lis)\n"
      ],
      "metadata": {
        "colab": {
          "base_uri": "https://localhost:8080/"
        },
        "id": "08YFaGucYjGH",
        "outputId": "39b52ea3-57cd-4599-e5ee-b4aa1b65fc43"
      },
      "execution_count": null,
      "outputs": [
        {
          "output_type": "stream",
          "name": "stdout",
          "text": [
            "lis6 [1, 2, 3]\n",
            "['faheem', 'age', '18', 'height', '5.7inch']\n",
            "['faheem', 'age', '18', 'height', '5.7inch']\n",
            "5\n",
            "['faheem', 'age', '18', 'height', '5.7inch', 'joke', 'offended']\n",
            "[]\n",
            "faheem\n",
            "['18', '5.7inch', 'age', 'faheem', 'height']\n"
          ]
        }
      ]
    },
    {
      "cell_type": "code",
      "source": [
        "tuple1=(\"hi\",\"i\",\"am\",\"Faheem\")\n",
        "print(tuple1)\n",
        "print(type(tuple1))\n",
        "tuple7=(1,2,3,4,)\n",
        "print(tuple1)\n"
      ],
      "metadata": {
        "colab": {
          "base_uri": "https://localhost:8080/"
        },
        "id": "yE0aRhOdbX1E",
        "outputId": "1273fc93-5dab-49a2-f4ac-bc8fdb1d2315"
      },
      "execution_count": null,
      "outputs": [
        {
          "output_type": "stream",
          "name": "stdout",
          "text": [
            "('hi', 'i', 'am', 'Faheem')\n",
            "<class 'tuple'>\n",
            "('hi', 'i', 'am', 'Faheem')\n"
          ]
        }
      ]
    },
    {
      "cell_type": "code",
      "source": [
        "tuple1=(\"hi\",\"i\",\"am\",\"Faheem\")\n",
        "print(tuple1[-1])\n",
        "tuple2=tuple1*2\n",
        "print (tuple2)\n",
        "y=tuple2.index('Faheem')\n",
        "y"
      ],
      "metadata": {
        "colab": {
          "base_uri": "https://localhost:8080/"
        },
        "id": "9I8_E2vdcDyA",
        "outputId": "4891d25d-6aa7-4ed6-b2fc-ed9f941207cd"
      },
      "execution_count": null,
      "outputs": [
        {
          "output_type": "stream",
          "name": "stdout",
          "text": [
            "Faheem\n",
            "('hi', 'i', 'am', 'Faheem', 'hi', 'i', 'am', 'Faheem')\n"
          ]
        },
        {
          "output_type": "execute_result",
          "data": {
            "text/plain": [
              "3"
            ]
          },
          "metadata": {},
          "execution_count": 2
        }
      ]
    },
    {
      "cell_type": "markdown",
      "source": [],
      "metadata": {
        "id": "04qq3lcdT90R"
      }
    },
    {
      "cell_type": "code",
      "source": [
        "substraction1=a-b-c"
      ],
      "metadata": {
        "id": "IYzQeH7tT-ic"
      },
      "execution_count": null,
      "outputs": []
    },
    {
      "cell_type": "code",
      "source": [
        "x=(1,2,3)\n",
        "print(x)\n",
        "y=list(x)\n",
        "y[2]=\"kokalta\"\n",
        "x=tuple(y)\n",
        "print(x)\n",
        "\n"
      ],
      "metadata": {
        "colab": {
          "base_uri": "https://localhost:8080/"
        },
        "id": "1TYO1hm_cpk4",
        "outputId": "a0c80747-ee01-4b7e-8ddd-ad65f1707e70"
      },
      "execution_count": null,
      "outputs": [
        {
          "output_type": "stream",
          "name": "stdout",
          "text": [
            "(1, 2, 3)\n",
            "(1, 2, 'kokalta')\n"
          ]
        }
      ]
    },
    {
      "cell_type": "code",
      "source": [
        "set1={\"blue\",\"black\",\"red\"}\n",
        "print(set1)\n",
        "set1.add(\"mattback\")\n",
        "set2={\"crimson\",\"pink\"}\n",
        "set1.update(set2)\n",
        "print(set1)"
      ],
      "metadata": {
        "colab": {
          "base_uri": "https://localhost:8080/"
        },
        "id": "KnKEhMKNgsSb",
        "outputId": "d6989901-584c-4029-ab6b-19781a182811"
      },
      "execution_count": null,
      "outputs": [
        {
          "output_type": "stream",
          "name": "stdout",
          "text": [
            "{'black', 'blue', 'red'}\n",
            "{'black', 'blue', 'pink', 'crimson', 'red', 'mattback'}\n"
          ]
        }
      ]
    },
    {
      "cell_type": "code",
      "source": [
        "print(\"Enter the dividend and divisor\")\n",
        "a=int(input(\"a=\"))\n",
        "b=int(input(\"b=\"))\n",
        "if a>b:\n",
        "  q=a/b\n",
        "  print(\"q=\",q)\n",
        "elif a == b:\n",
        "  print(\"q=1\")\n",
        "else:\n",
        "  print(\"the divisor cannot be greater divident\")\n"
      ],
      "metadata": {
        "colab": {
          "base_uri": "https://localhost:8080/"
        },
        "id": "kk9Pwb9AyuZN",
        "outputId": "bace995b-a221-4050-8943-5a525191408e"
      },
      "execution_count": null,
      "outputs": [
        {
          "output_type": "stream",
          "name": "stdout",
          "text": [
            "Enter the dividend and divisor\n",
            "a=4\n",
            "b=2\n",
            "q= 2.0\n"
          ]
        }
      ]
    },
    {
      "cell_type": "code",
      "source": [
        "def factorial(n):\n",
        "    if n == 0 or n == 1:\n",
        "        return 1\n",
        "    else:\n",
        "        return n * factorial(n - 1)\n",
        "\n",
        "result = factorial(5)\n",
        "print(\"Factorial of 5:\", result)\n",
        "\n"
      ],
      "metadata": {
        "colab": {
          "base_uri": "https://localhost:8080/"
        },
        "id": "_8Z9OMW_uqHu",
        "outputId": "1b82bbdc-16f9-4055-ef14-20c3a550ddbb"
      },
      "execution_count": 2,
      "outputs": [
        {
          "output_type": "stream",
          "name": "stdout",
          "text": [
            "Factorial of 5: 120\n"
          ]
        }
      ]
    },
    {
      "cell_type": "code",
      "source": [
        "def is_palindrome(word):\n",
        "    return word == word[::-1]\n",
        "\n",
        "word = \"radar\"\n",
        "if is_palindrome(word):\n",
        "    print(\"It's a palindrome.\")\n",
        "else:\n",
        "    print(\"It's not a palindrome.\")\n"
      ],
      "metadata": {
        "colab": {
          "base_uri": "https://localhost:8080/"
        },
        "id": "aYlDOE2OySQO",
        "outputId": "15823e37-bdfc-4edf-adb5-b02a89ff5148"
      },
      "execution_count": 3,
      "outputs": [
        {
          "output_type": "stream",
          "name": "stdout",
          "text": [
            "It's a palindrome.\n"
          ]
        }
      ]
    },
    {
      "cell_type": "code",
      "source": [
        "def is_prime(n):\n",
        "    if n <= 1:\n",
        "        return False\n",
        "    for i in range(2, int(n**0.5) + 1):\n",
        "        if n % i == 0:\n",
        "            return False\n",
        "    return True\n",
        "\n",
        "num = int(input(\"Enter a number: \"))\n",
        "if is_prime(num):\n",
        "    print(\"It's a prime number!\")\n",
        "else:\n",
        "    print(\"It's not a prime number.\")\n"
      ],
      "metadata": {
        "colab": {
          "base_uri": "https://localhost:8080/"
        },
        "id": "MQGkTeW0yUpx",
        "outputId": "83b1c15b-fe9d-46d3-9a00-81ba85d33cd6"
      },
      "execution_count": 4,
      "outputs": [
        {
          "output_type": "stream",
          "name": "stdout",
          "text": [
            "Enter a number: 2\n",
            "It's a prime number!\n"
          ]
        }
      ]
    },
    {
      "cell_type": "code",
      "source": [
        "def lcm(a, b):\n",
        "    gcd = lambda x, y: x if y == 0 else gcd(y, x % y)\n",
        "    return abs(a * b) // gcd(a, b)\n",
        "\n",
        "num1 = int(input(\"Enter the first number: \"))\n",
        "num2 = int(input(\"Enter the second number: \"))\n",
        "result = lcm(num1, num2)\n",
        "print(f\"LCM of {num1} and {num2} is {result}\")\n"
      ],
      "metadata": {
        "colab": {
          "base_uri": "https://localhost:8080/"
        },
        "id": "NTDXr0BNz12_",
        "outputId": "74d1d365-2c44-4d5a-f895-ee391fb05eff"
      },
      "execution_count": 5,
      "outputs": [
        {
          "output_type": "stream",
          "name": "stdout",
          "text": [
            "Enter the first number: 123\n",
            "Enter the second number: 321\n",
            "LCM of 123 and 321 is 13161\n"
          ]
        }
      ]
    },
    {
      "cell_type": "code",
      "source": [],
      "metadata": {
        "id": "LqtUS04E0PJf"
      },
      "execution_count": null,
      "outputs": []
    }
  ]
}